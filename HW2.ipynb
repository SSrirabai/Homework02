{
 "cells": [
  {
   "cell_type": "markdown",
   "id": "1e711202",
   "metadata": {
    "pycharm": {
     "name": "#%% md\n"
    }
   },
   "source": [
    "# KUC, PGR107\n",
    "# HW2\n"
   ]
  },
  {
   "cell_type": "markdown",
   "id": "f798a37c",
   "metadata": {
    "pycharm": {
     "name": "#%% md\n"
    }
   },
   "source": [
    "## There are three tasks and should be finished and submitted through groups.\n",
    "## Each group is suggested to have 1-5 members.\n",
    "## In the submission, please include your implementation (executable code) as .ipynb document.\n",
    "## List your group name and group member information in the top (written in comments).\n"
   ]
  },
  {
   "cell_type": "markdown",
   "id": "3ae54df2",
   "metadata": {
    "pycharm": {
     "name": "#%% md\n"
    }
   },
   "source": [
    "### P4.1 Tuple\n",
    "\n",
    "#### Create a tuple A: all of the elements are string type.\n",
    "#### Create a tuple B: all of the elements are int type.\n",
    "Then perform the following:\n",
    "- 4.1.1 Output the length of the tuple A.\n",
    "- 4.1.2 Using slicing to extract the elements from the last to the second location.\n",
    "- 4.1.3 Create a tuple C by combining A, B.\n",
    "- 4.1.4 Create a list D by Combining A, B.\n",
    "- 4.1.5 Create a dictionary E, by combining tuple A and B (hint: using zip)\n"
   ]
  },
  {
   "cell_type": "markdown",
   "id": "01509d33",
   "metadata": {
    "pycharm": {
     "name": "#%% md\n"
    }
   },
   "source": [
    "### P4.2 List"
   ]
  },
  {
   "cell_type": "markdown",
   "id": "c08f9757",
   "metadata": {
    "pycharm": {
     "name": "#%% md\n"
    }
   },
   "source": [
    "#### P4.2.1 There is a list str_1 = ['Thank']. Add 'You' after the '' in str_1 and output str_1.\n",
    "\n",
    "#### P4.2.2 There is a list str_2 = ['Thank', 'you', 'much']. Add 'so' after 'you' in str_2 to output greetin_2.\n",
    "\n",
    "#### P4.2.3 There is a list str_3 = ['Thank', 'you', 'so', 'very', 'much']. Remove the element 'very.' from str_3 and output str_3.\n"
   ]
  },
  {
   "cell_type": "markdown",
   "id": "0901887b",
   "metadata": {
    "pycharm": {
     "name": "#%% md\n"
    }
   },
   "source": [
    "### P4.3 Dictionary\n",
    "\n",
    "#### P4.3.1 Show the list of keys in the vegetable_dict.\n",
    "#### P4.3.2 Calculate and output the average value of vegetable_dict.\n",
    "\n",
    "vegetable_dict = {'Tomato':40, 'Carrot':20, 'Eggplant':50, 'Onion':30, 'Potato':35}\n",
    "\n"
   ]
  },
  {
   "cell_type": "code",
   "execution_count": null,
   "id": "93f834f9",
   "metadata": {
    "pycharm": {
     "name": "#%%\n"
    }
   },
   "outputs": [],
   "source": []
  }
 ],
 "metadata": {
  "kernelspec": {
   "display_name": "Python 3 (ipykernel)",
   "language": "python",
   "name": "python3"
  },
  "language_info": {
   "codemirror_mode": {
    "name": "ipython",
    "version": 3
   },
   "file_extension": ".py",
   "mimetype": "text/x-python",
   "name": "python",
   "nbconvert_exporter": "python",
   "pygments_lexer": "ipython3",
   "version": "3.9.12"
  }
 },
 "nbformat": 4,
 "nbformat_minor": 5
}
