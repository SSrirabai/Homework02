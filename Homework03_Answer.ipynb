{
 "cells": [
  {
   "cell_type": "markdown",
   "source": [
    "Group member"
   ],
   "metadata": {
    "collapsed": false
   }
  },
  {
   "cell_type": "markdown",
   "source": [
    "Joanne Teves Farstad"
   ],
   "metadata": {
    "collapsed": false
   }
  },
  {
   "cell_type": "markdown",
   "source": [
    "Susrita Khadka"
   ],
   "metadata": {
    "collapsed": false
   }
  },
  {
   "cell_type": "markdown",
   "source": [
    "Chonthichar Soythong"
   ],
   "metadata": {
    "collapsed": false
   }
  },
  {
   "cell_type": "markdown",
   "source": [
    "Somjate Srirabai"
   ],
   "metadata": {
    "collapsed": false
   }
  },
  {
   "cell_type": "code",
   "execution_count": null,
   "outputs": [],
   "source": [
    "#  String\n",
    "#  #### Use the string str: \"Python Programming\" for questions 5.1.1 to 5.1.3."
   ],
   "metadata": {
    "collapsed": false
   }
  },
  {
   "cell_type": "code",
   "execution_count": 1,
   "outputs": [],
   "source": [
    "s1 = 'Python Programming'"
   ],
   "metadata": {
    "collapsed": false
   }
  },
  {
   "cell_type": "code",
   "execution_count": 4,
   "outputs": [],
   "source": [
    "# 5.1.1 Iterate the string to calculate the length of str (hint: use for loop and len())."
   ],
   "metadata": {
    "collapsed": false
   }
  },
  {
   "cell_type": "code",
   "execution_count": 5,
   "outputs": [
    {
     "name": "stdout",
     "output_type": "stream",
     "text": [
      "P\n",
      "y\n",
      "t\n",
      "h\n",
      "o\n",
      "n\n",
      " \n",
      "P\n",
      "r\n",
      "o\n",
      "g\n",
      "r\n",
      "a\n",
      "m\n",
      "m\n",
      "i\n",
      "n\n",
      "g\n",
      "18\n"
     ]
    }
   ],
   "source": [
    "# Method 1:  Iterate over index\n",
    "for element in range(0, len(s1)):\n",
    "    print(s1[element])"
   ],
   "metadata": {
    "collapsed": false
   }
  },
  {
   "cell_type": "code",
   "execution_count": 23,
   "outputs": [
    {
     "name": "stdout",
     "output_type": "stream",
     "text": [
      "P y t h o n   P r o g r a m m i n g \n",
      "\n"
     ]
    }
   ],
   "source": [
    "# Method 2. Iterate over the string\n",
    "for element in s1:\n",
    "    print(element, end=' ')\n",
    "print(\"\\n\")"
   ],
   "metadata": {
    "collapsed": false
   }
  },
  {
   "cell_type": "code",
   "execution_count": 24,
   "outputs": [
    {
     "name": "stdout",
     "output_type": "stream",
     "text": [
      "18\n"
     ]
    }
   ],
   "source": [
    "# Find the length of the string\n",
    "#  Method 1:  Using len()\n",
    "print(len(s1))"
   ],
   "metadata": {
    "collapsed": false
   }
  },
  {
   "cell_type": "code",
   "execution_count": 41,
   "outputs": [
    {
     "name": "stdout",
     "output_type": "stream",
     "text": [
      "\" Python Programming \"\n",
      "The string Python Programming has 18 characters\n"
     ]
    }
   ],
   "source": [
    "# Method 2:  Using for loop\n",
    "length_counter = 0\n",
    "for i in s1: # traverse the string “educative”\n",
    "    length_counter += 1 #increment the counter\n",
    "# print(\"The string\" + print(s1) is (length_counter) + \"charactor long\"\") # outputs the length (9) of the string “educative”\n",
    "\n",
    "print('\"', s1, '\"')  # To print variable in quotes\n",
    "print(\"The string \" + str(s1) + \" has \" + str(length_counter) + \" characters\")\n",
    "\n"
   ],
   "metadata": {
    "collapsed": false
   }
  },
  {
   "cell_type": "markdown",
   "source": [
    "5.1.2 String Indexing:"
   ],
   "metadata": {
    "collapsed": false
   }
  },
  {
   "cell_type": "code",
   "execution_count": 42,
   "outputs": [
    {
     "data": {
      "text/plain": "4"
     },
     "execution_count": 42,
     "metadata": {},
     "output_type": "execute_result"
    }
   ],
   "source": [
    "#   a. Get the index number of the letter \"o\" in the string.\n",
    "\n",
    "s1.find('o')"
   ],
   "metadata": {
    "collapsed": false
   }
  },
  {
   "cell_type": "code",
   "execution_count": 43,
   "outputs": [
    {
     "data": {
      "text/plain": "7"
     },
     "execution_count": 43,
     "metadata": {},
     "output_type": "execute_result"
    }
   ],
   "source": [
    "#   b. Find \"Program\" in the string segment \"Programming\".\n",
    "\n",
    "s1.find('Program')"
   ],
   "metadata": {
    "collapsed": false
   }
  },
  {
   "cell_type": "markdown",
   "source": [
    "5.1.3 Use slice to get the following:"
   ],
   "metadata": {
    "collapsed": false
   }
  },
  {
   "cell_type": "code",
   "execution_count": 45,
   "outputs": [
    {
     "name": "stdout",
     "output_type": "stream",
     "text": [
      "thon\n"
     ]
    }
   ],
   "source": [
    "#  a. \"thon\"\n",
    "\n",
    "print(s1[2:6])"
   ],
   "metadata": {
    "collapsed": false
   }
  },
  {
   "cell_type": "code",
   "execution_count": 64,
   "outputs": [
    {
     "name": "stdout",
     "output_type": "stream",
     "text": [
      "gnimmargorP\n"
     ]
    }
   ],
   "source": [
    "#   b. \"gnimmargorP\"\n",
    "print(s1[-1:-12:-1])"
   ],
   "metadata": {
    "collapsed": false
   }
  },
  {
   "cell_type": "code",
   "execution_count": 48,
   "outputs": [
    {
     "name": "stdout",
     "output_type": "stream",
     "text": [
      "Pto\n"
     ]
    }
   ],
   "source": [
    "#   c. \"Pto \"\n",
    "print(s1[0:5:2])"
   ],
   "metadata": {
    "collapsed": false
   }
  },
  {
   "cell_type": "markdown",
   "source": [
    "5.1.4 Create a new string and convert it to float."
   ],
   "metadata": {
    "collapsed": false
   }
  },
  {
   "cell_type": "code",
   "execution_count": 67,
   "outputs": [
    {
     "name": "stdout",
     "output_type": "stream",
     "text": [
      "<class 'str'>\n",
      "<class 'float'>\n"
     ]
    }
   ],
   "source": [
    "s2 = (\"1.345\")\n",
    "print(type(s2))\n",
    "\n",
    "float(s2)\n",
    "print(type(float(s2)))"
   ],
   "metadata": {
    "collapsed": false
   }
  },
  {
   "cell_type": "markdown",
   "source": [
    "5.1.5 Write a program that asks the user to enter his age and print it using the f-string method."
   ],
   "metadata": {
    "collapsed": false
   }
  },
  {
   "cell_type": "code",
   "execution_count": 85,
   "outputs": [
    {
     "name": "stdout",
     "output_type": "stream",
     "text": [
      "Oh, how nice!  I am 47 as well.  Very nice to meet you.  :)\n"
     ]
    }
   ],
   "source": [
    "age = input(\"How old are you now?\")\n",
    "\n",
    "print(f\"Oh, how nice!  I am {age} as well.  Very nice to meet you.  :)\")"
   ],
   "metadata": {
    "collapsed": false
   }
  },
  {
   "cell_type": "markdown",
   "source": [
    "5.2 Files and operating system"
   ],
   "metadata": {
    "collapsed": false
   }
  },
  {
   "cell_type": "markdown",
   "source": [
    "5.2.1 Create a .txt file and add few lines into the file.\n",
    "5.2.2 Load the .txt file\n",
    "5.2.3 Read the lines from the .txt file"
   ],
   "metadata": {
    "collapsed": false
   }
  },
  {
   "cell_type": "code",
   "execution_count": 90,
   "outputs": [
    {
     "name": "stdout",
     "output_type": "stream",
     "text": [
      "Easy on me : Song by Adele\n",
      "There ain't no gold in this river\n",
      "That I've been washin' my hands in forever\n",
      "I know there is hope in these waters\n",
      "But I can't bring myself to swim\n",
      "When I am drowning in this silence\n",
      "Baby, let me in\n",
      "\n",
      "Go easy on me, baby\n",
      "I was still a child\n",
      "Didn't get the chance to\n",
      "Feel the world around me\n",
      "I had no time to choose\n",
      "What I chose to do\n",
      "So go easy on me\n",
      "\n"
     ]
    }
   ],
   "source": [
    "Easy_On_Me = open('HW3_text.txt', 'r')\n",
    "Content = Easy_On_Me.read()\n",
    "print(Content)\n",
    "Easy_On_Me.close()"
   ],
   "metadata": {
    "collapsed": false
   }
  },
  {
   "cell_type": "code",
   "execution_count": null,
   "outputs": [],
   "source": [],
   "metadata": {
    "collapsed": false
   }
  },
  {
   "cell_type": "code",
   "execution_count": null,
   "outputs": [],
   "source": [],
   "metadata": {
    "collapsed": false
   }
  },
  {
   "cell_type": "code",
   "execution_count": null,
   "outputs": [],
   "source": [],
   "metadata": {
    "collapsed": false
   }
  },
  {
   "cell_type": "code",
   "execution_count": null,
   "outputs": [],
   "source": [],
   "metadata": {
    "collapsed": false
   }
  },
  {
   "cell_type": "code",
   "execution_count": null,
   "outputs": [],
   "source": [],
   "metadata": {
    "collapsed": false
   }
  }
 ],
 "metadata": {
  "kernelspec": {
   "display_name": "Python 3",
   "language": "python",
   "name": "python3"
  },
  "language_info": {
   "codemirror_mode": {
    "name": "ipython",
    "version": 2
   },
   "file_extension": ".py",
   "mimetype": "text/x-python",
   "name": "python",
   "nbconvert_exporter": "python",
   "pygments_lexer": "ipython2",
   "version": "2.7.6"
  }
 },
 "nbformat": 4,
 "nbformat_minor": 0
}
